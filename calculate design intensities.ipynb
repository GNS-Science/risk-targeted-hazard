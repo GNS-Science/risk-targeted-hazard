{
 "cells": [
  {
   "cell_type": "code",
   "execution_count": 1,
   "metadata": {},
   "outputs": [],
   "source": [
    "from risk_targeted_hazard import *"
   ]
  },
  {
   "cell_type": "code",
   "execution_count": 2,
   "metadata": {},
   "outputs": [],
   "source": [
    "folder = 'data'\n",
    "\n",
    "oq_id = [int(re.split('calc_|\\.',name)[1]) for name in glob.glob(str(Path(folder,'calc_*.hdf5')))][0]\n",
    "file_id = str(Path(folder,f'calc_{oq_id}.hdf5'))"
   ]
  },
  {
   "cell_type": "markdown",
   "metadata": {},
   "source": [
    "### retrieve hcurves from oq file"
   ]
  },
  {
   "cell_type": "code",
   "execution_count": 3,
   "metadata": {},
   "outputs": [],
   "source": [
    "data = retrieve_data(file_id)"
   ]
  },
  {
   "cell_type": "markdown",
   "metadata": {},
   "source": [
    "### calculate APoE based design intensities"
   ]
  },
  {
   "cell_type": "code",
   "execution_count": 4,
   "metadata": {},
   "outputs": [
    {
     "name": "stderr",
     "output_type": "stream",
     "text": [
      "C:\\Users\\ahul697\\Desktop\\Research\\GitHub_Repos\\GNS\\risk-targeted-hazard\\risk_targeted_hazard\\prepare_design_intensities.py:30: RuntimeWarning: divide by zero encountered in log\n",
      "  im_hazard[i_site,i_imt,:,i_rlz,0] = np.exp(np.interp(np.log(1/hazard_rps), np.log(np.flip(hcurves_rlzs[i_site,i_imt,:,i_rlz])), np.log(np.flip(imtls[imt]))))\n",
      "C:\\Users\\ahul697\\Desktop\\Research\\GitHub_Repos\\GNS\\risk-targeted-hazard\\risk_targeted_hazard\\prepare_design_intensities.py:42: RuntimeWarning: divide by zero encountered in log\n",
      "  stats_im_hazard[i_site,i_imt,:,i_stat] = np.exp(np.interp(np.log(1/hazard_rps), np.log(np.flip(hcurves_stats[i_site,i_imt,:,i_stat])), np.log(np.flip(imtls[imt]))))\n"
     ]
    }
   ],
   "source": [
    "hazard_rps = np.array([25,50,500,2500])\n",
    "[im_hazard, stats_im_hazard] = calculate_hazard_design_intensities(data,hazard_rps)\n",
    "\n",
    "data['hazard_design'] = {}\n",
    "data['hazard_design']['hazard_rps'] = hazard_rps.tolist()\n",
    "data['hazard_design']['im_hazard'] = im_hazard.tolist()\n",
    "data['hazard_design']['stats_im_hazard'] = stats_im_hazard.tolist()"
   ]
  },
  {
   "cell_type": "markdown",
   "metadata": {},
   "source": [
    "### calculate risk-targeted design intensities"
   ]
  },
  {
   "cell_type": "code",
   "execution_count": 5,
   "metadata": {},
   "outputs": [],
   "source": [
    "risk_target = 1e-5\n",
    "beta = 0.6\n",
    "\n",
    "risk_assumptions = {}\n",
    "\n",
    "risk_assumptions['Horspool'] = {'risk_target':risk_target,\n",
    "                                'conditional_prob':10**-4,\n",
    "                                'beta':beta}\n",
    "\n",
    "risk_assumptions['Douglas'] = {'risk_target':risk_target,\n",
    "                                'conditional_prob':10**-5,\n",
    "                                'beta':beta}\n",
    "\n",
    "risk_assumptions['Silva'] = {'risk_target':risk_target,\n",
    "                                'conditional_prob':10**-3,\n",
    "                                'beta':beta}"
   ]
  },
  {
   "cell_type": "code",
   "execution_count": 7,
   "metadata": {},
   "outputs": [],
   "source": [
    "[im_risk, stats_im_risk] = calculate_risk_design_intensities(data,risk_assumptions)\n",
    "\n",
    "data['risk_design'] = {}\n",
    "data['risk_design']['risk_assumptions'] = risk_assumptions\n",
    "data['risk_design']['im_risk'] = im_risk\n",
    "data['risk_design']['stats_im_risk'] = stats_im_risk"
   ]
  },
  {
   "cell_type": "code",
   "execution_count": 17,
   "metadata": {},
   "outputs": [],
   "source": [
    "filename = str(Path(folder,f'design_{oq_id}.json'))\n",
    "with open(filename, 'w') as f:\n",
    "    json.dump(data,f,indent=4)"
   ]
  },
  {
   "cell_type": "code",
   "execution_count": null,
   "metadata": {},
   "outputs": [],
   "source": []
  }
 ],
 "metadata": {
  "kernelspec": {
   "display_name": "oq_314",
   "language": "python",
   "name": "oq_314"
  },
  "language_info": {
   "codemirror_mode": {
    "name": "ipython",
    "version": 3
   },
   "file_extension": ".py",
   "mimetype": "text/x-python",
   "name": "python",
   "nbconvert_exporter": "python",
   "pygments_lexer": "ipython3",
   "version": "3.8.13"
  }
 },
 "nbformat": 4,
 "nbformat_minor": 4
}
